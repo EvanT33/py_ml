{
 "cells": [
  {
   "cell_type": "code",
   "execution_count": 7,
   "metadata": {
    "collapsed": true
   },
   "outputs": [],
   "source": [
    "import sklearn\n",
    "from sklearn.utils import shuffle\n",
    "from sklearn.neighbors import KNeighborsClassifier\n",
    "import pandas as pd\n",
    "import numpy as np\n",
    "from sklearn import linear_model, preprocessing"
   ]
  },
  {
   "cell_type": "code",
   "execution_count": 8,
   "metadata": {
    "pycharm": {
     "name": "#%%\n"
    }
   },
   "outputs": [
    {
     "name": "stdout",
     "output_type": "stream",
     "text": [
      "  buying  maint door persons lug_boot safety  class\n",
      "0  vhigh  vhigh    2       2    small    low  unacc\n",
      "1  vhigh  vhigh    2       2    small    med  unacc\n",
      "2  vhigh  vhigh    2       2    small   high  unacc\n",
      "3  vhigh  vhigh    2       2      med    low  unacc\n",
      "4  vhigh  vhigh    2       2      med    med  unacc\n"
     ]
    }
   ],
   "source": [
    "data = pd.read_csv(\"car.data\")\n",
    "print(data.head(5))"
   ]
  },
  {
   "cell_type": "code",
   "execution_count": 18,
   "metadata": {
    "pycharm": {
     "name": "#%%\n"
    }
   },
   "outputs": [
    {
     "name": "stdout",
     "output_type": "stream",
     "text": [
      "   buying  maint  door  persons  lug_boot  safety  class\n",
      "0       3      3     0        0         2       1      2\n",
      "1       3      3     0        0         2       2      2\n",
      "2       3      3     0        0         2       0      2\n",
      "3       3      3     0        0         1       1      2\n",
      "4       3      3     0        0         1       2      2\n",
      "<class 'pandas.core.frame.DataFrame'>\n"
     ]
    }
   ],
   "source": [
    "# preprocessing. code string values to numeric\n",
    "le = preprocessing.LabelEncoder()\n",
    "\n",
    "for var in (\"buying\", \"maint\", \"lug_boot\", \"safety\", \"class\", \"door\", \"persons\"):\n",
    "    data[var] = le.fit_transform(list(data[var]))\n",
    "\n",
    "predict = \"class\"\n",
    "\n",
    "print(data.head(5))\n",
    "print(type(data))"
   ]
  },
  {
   "cell_type": "code",
   "execution_count": 20,
   "metadata": {
    "pycharm": {
     "name": "#%%\n"
    }
   },
   "outputs": [
    {
     "name": "stdout",
     "output_type": "stream",
     "text": [
      "[[2 3 0 2 0 1]\n",
      " [1 0 1 0 1 2]\n",
      " [3 2 0 1 0 0]\n",
      " ...\n",
      " [0 0 1 1 1 0]\n",
      " [1 1 1 1 2 0]\n",
      " [0 3 3 1 0 2]] [2 2 2 0 2 2 1 0 0 2 0 0 2 2 2 0 2 2 0 0 2 2 2 2 0 3 0 2 2 2 2 2 2 2 2 2 2\n",
      " 0 0 2 2 2 2 0 2 2 0 0 2 3 0 3 0 2 0 2 2 2 2 2 2 0 2 2 2 1 2 2 0 2 2 2 2 2\n",
      " 2 2 2 2 2 0 0 2 2 2 2 2 3 2 2 0 2 2 2 2 2 2 2 2 2 2 2 2 2 0 2 2 0 0 2 0 0\n",
      " 2 2 1 0 2 2 2 2 0 2 2 2 2 2 2 2 2 2 2 2 2 2 0 2 2 2 2 2 2 2 2 2 2 2 2 2 0\n",
      " 2 2 2 2 2 2 0 0 2 2 0 2 3 2 2 2 2 2 2 2 2 3 0 2 2]\n"
     ]
    }
   ],
   "source": [
    "X = np.array(data.drop([predict], 1))\n",
    "y = np.array(data[predict])\n",
    "\n",
    "x_train, x_test, y_train, y_test = sklearn.model_selection.train_test_split(X, y, test_size=0.1)\n",
    "\n",
    "print(x_train, y_test)"
   ]
  },
  {
   "cell_type": "code",
   "execution_count": 26,
   "metadata": {
    "pycharm": {
     "name": "#%%\n"
    }
   },
   "outputs": [
    {
     "name": "stdout",
     "output_type": "stream",
     "text": [
      "0.9248554913294798\n"
     ]
    }
   ],
   "source": [
    "# model\n",
    "model = KNeighborsClassifier(n_neighbors=9)\n",
    "model.fit(x_train, y_train)\n",
    "acc = model.score(x_test, y_test)\n",
    "print(acc)"
   ]
  },
  {
   "cell_type": "code",
   "execution_count": 31,
   "metadata": {
    "pycharm": {
     "name": "#%%\n"
    }
   },
   "outputs": [
    {
     "name": "stdout",
     "output_type": "stream",
     "text": [
      "Predicted:  good Data:  [3 2 1 0 2 1] Actual:  good\n",
      "Predicted:  good Data:  [2 1 1 2 1 1] Actual:  good\n",
      "Predicted:  good Data:  [3 2 2 0 1 2] Actual:  good\n",
      "Predicted:  unacc Data:  [1 0 3 2 1 2] Actual:  unacc\n",
      "Predicted:  good Data:  [0 1 1 0 2 2] Actual:  good\n",
      "Predicted:  good Data:  [3 1 3 2 1 1] Actual:  good\n",
      "Predicted:  acc Data:  [1 2 2 1 2 0] Actual:  acc\n",
      "Predicted:  good Data:  [0 2 1 2 1 2] Actual:  unacc\n",
      "Predicted:  unacc Data:  [0 0 1 2 0 2] Actual:  unacc\n",
      "Predicted:  good Data:  [1 3 3 0 1 2] Actual:  good\n",
      "Predicted:  unacc Data:  [1 3 2 2 1 0] Actual:  unacc\n",
      "Predicted:  unacc Data:  [1 0 0 2 1 0] Actual:  unacc\n",
      "Predicted:  good Data:  [1 1 0 0 0 1] Actual:  good\n",
      "Predicted:  good Data:  [0 3 3 1 0 1] Actual:  good\n",
      "Predicted:  good Data:  [0 0 0 2 1 2] Actual:  good\n",
      "Predicted:  unacc Data:  [1 3 3 2 0 0] Actual:  unacc\n",
      "Predicted:  good Data:  [3 0 2 1 2 2] Actual:  good\n",
      "Predicted:  good Data:  [1 3 0 0 2 1] Actual:  good\n",
      "Predicted:  unacc Data:  [0 2 3 2 0 2] Actual:  unacc\n",
      "Predicted:  good Data:  [1 0 1 2 2 2] Actual:  unacc\n",
      "Predicted:  good Data:  [3 0 2 1 2 1] Actual:  good\n",
      "Predicted:  good Data:  [3 0 0 2 0 0] Actual:  good\n",
      "Predicted:  good Data:  [3 0 1 2 2 2] Actual:  good\n",
      "Predicted:  good Data:  [2 3 2 0 1 2] Actual:  good\n",
      "Predicted:  unacc Data:  [0 1 2 1 2 0] Actual:  unacc\n",
      "Predicted:  vgood Data:  [1 1 3 1 0 0] Actual:  vgood\n",
      "Predicted:  unacc Data:  [0 0 1 1 2 0] Actual:  unacc\n",
      "Predicted:  good Data:  [3 0 0 1 0 1] Actual:  good\n",
      "Predicted:  good Data:  [3 1 1 0 1 1] Actual:  good\n",
      "Predicted:  good Data:  [1 1 1 1 0 1] Actual:  good\n",
      "Predicted:  good Data:  [0 0 0 1 2 1] Actual:  good\n",
      "Predicted:  good Data:  [3 3 1 0 2 1] Actual:  good\n",
      "Predicted:  good Data:  [3 1 0 0 0 0] Actual:  good\n",
      "Predicted:  good Data:  [3 2 1 0 1 2] Actual:  good\n",
      "Predicted:  unacc Data:  [3 1 0 2 2 0] Actual:  good\n",
      "Predicted:  good Data:  [2 2 0 1 0 1] Actual:  good\n",
      "Predicted:  good Data:  [1 2 0 0 0 0] Actual:  good\n",
      "Predicted:  good Data:  [1 3 2 1 1 2] Actual:  unacc\n",
      "Predicted:  good Data:  [0 2 0 1 0 2] Actual:  unacc\n",
      "Predicted:  good Data:  [2 1 0 1 2 1] Actual:  good\n",
      "Predicted:  good Data:  [0 1 2 1 2 2] Actual:  good\n",
      "Predicted:  good Data:  [3 0 2 1 1 2] Actual:  good\n",
      "Predicted:  good Data:  [1 0 0 0 1 0] Actual:  good\n",
      "Predicted:  good Data:  [1 0 0 1 2 2] Actual:  unacc\n",
      "Predicted:  good Data:  [3 0 3 1 0 1] Actual:  good\n",
      "Predicted:  good Data:  [0 0 3 0 0 0] Actual:  good\n",
      "Predicted:  good Data:  [1 3 2 2 1 2] Actual:  unacc\n",
      "Predicted:  unacc Data:  [0 2 1 2 1 0] Actual:  unacc\n",
      "Predicted:  good Data:  [0 1 2 0 0 1] Actual:  good\n",
      "Predicted:  vgood Data:  [2 2 3 2 1 0] Actual:  vgood\n",
      "Predicted:  unacc Data:  [1 1 2 2 2 2] Actual:  unacc\n",
      "Predicted:  unacc Data:  [1 0 2 2 0 0] Actual:  vgood\n",
      "Predicted:  unacc Data:  [1 2 1 1 2 2] Actual:  unacc\n",
      "Predicted:  good Data:  [1 2 2 0 1 0] Actual:  good\n",
      "Predicted:  good Data:  [2 1 0 1 2 2] Actual:  unacc\n",
      "Predicted:  good Data:  [2 3 1 0 0 0] Actual:  good\n",
      "Predicted:  good Data:  [0 1 3 0 0 0] Actual:  good\n",
      "Predicted:  good Data:  [2 3 1 0 1 1] Actual:  good\n",
      "Predicted:  good Data:  [2 0 2 2 1 1] Actual:  good\n",
      "Predicted:  good Data:  [3 0 2 0 0 0] Actual:  good\n",
      "Predicted:  good Data:  [3 2 0 0 2 0] Actual:  good\n",
      "Predicted:  unacc Data:  [2 3 2 2 1 2] Actual:  unacc\n",
      "Predicted:  good Data:  [2 1 0 0 0 2] Actual:  good\n",
      "Predicted:  good Data:  [0 0 0 0 1 0] Actual:  good\n",
      "Predicted:  good Data:  [3 2 2 0 0 0] Actual:  good\n",
      "Predicted:  acc Data:  [1 1 2 1 1 2] Actual:  acc\n",
      "Predicted:  good Data:  [2 1 2 0 0 2] Actual:  good\n",
      "Predicted:  good Data:  [0 1 1 2 2 1] Actual:  good\n",
      "Predicted:  unacc Data:  [1 3 2 1 0 2] Actual:  unacc\n",
      "Predicted:  good Data:  [3 0 2 0 0 2] Actual:  good\n",
      "Predicted:  good Data:  [3 1 2 1 2 1] Actual:  good\n",
      "Predicted:  good Data:  [2 2 0 0 0 2] Actual:  good\n",
      "Predicted:  good Data:  [2 1 3 0 1 1] Actual:  good\n",
      "Predicted:  good Data:  [3 0 0 0 1 2] Actual:  good\n",
      "Predicted:  good Data:  [3 2 2 0 0 1] Actual:  good\n",
      "Predicted:  good Data:  [1 1 2 0 1 1] Actual:  good\n",
      "Predicted:  good Data:  [0 1 2 0 2 1] Actual:  good\n",
      "Predicted:  good Data:  [3 0 0 1 1 1] Actual:  good\n",
      "Predicted:  good Data:  [3 3 3 2 0 2] Actual:  good\n",
      "Predicted:  unacc Data:  [2 2 0 1 1 2] Actual:  unacc\n",
      "Predicted:  unacc Data:  [2 2 3 1 0 2] Actual:  unacc\n",
      "Predicted:  good Data:  [2 3 0 2 2 2] Actual:  good\n",
      "Predicted:  good Data:  [0 1 3 1 2 2] Actual:  good\n",
      "Predicted:  good Data:  [0 0 1 2 0 1] Actual:  good\n",
      "Predicted:  good Data:  [0 1 1 0 0 0] Actual:  good\n",
      "Predicted:  good Data:  [0 0 2 0 1 2] Actual:  good\n",
      "Predicted:  vgood Data:  [2 1 2 2 1 0] Actual:  vgood\n",
      "Predicted:  good Data:  [1 2 0 0 0 1] Actual:  good\n",
      "Predicted:  good Data:  [1 2 3 0 2 0] Actual:  good\n",
      "Predicted:  unacc Data:  [3 2 3 2 1 0] Actual:  unacc\n",
      "Predicted:  good Data:  [1 3 2 0 1 2] Actual:  good\n",
      "Predicted:  good Data:  [2 1 1 0 2 0] Actual:  good\n",
      "Predicted:  good Data:  [3 1 1 0 0 1] Actual:  good\n",
      "Predicted:  good Data:  [0 1 2 0 1 1] Actual:  good\n",
      "Predicted:  good Data:  [2 0 3 1 1 1] Actual:  good\n",
      "Predicted:  good Data:  [0 3 2 2 1 1] Actual:  good\n",
      "Predicted:  good Data:  [0 3 3 0 1 1] Actual:  good\n",
      "Predicted:  good Data:  [0 3 2 2 2 2] Actual:  good\n",
      "Predicted:  good Data:  [3 0 2 0 1 0] Actual:  good\n",
      "Predicted:  good Data:  [0 0 3 0 1 2] Actual:  good\n",
      "Predicted:  good Data:  [2 3 3 0 2 0] Actual:  good\n",
      "Predicted:  good Data:  [3 1 2 0 1 1] Actual:  good\n",
      "Predicted:  good Data:  [0 2 2 0 1 0] Actual:  good\n",
      "Predicted:  unacc Data:  [2 2 2 1 0 2] Actual:  unacc\n",
      "Predicted:  good Data:  [1 1 0 2 2 1] Actual:  good\n",
      "Predicted:  good Data:  [1 2 2 0 2 0] Actual:  good\n",
      "Predicted:  good Data:  [1 0 2 2 2 2] Actual:  unacc\n",
      "Predicted:  unacc Data:  [1 1 2 1 2 2] Actual:  unacc\n",
      "Predicted:  good Data:  [1 0 2 0 2 2] Actual:  good\n",
      "Predicted:  good Data:  [1 3 3 1 0 0] Actual:  unacc\n",
      "Predicted:  good Data:  [2 0 0 1 0 2] Actual:  unacc\n",
      "Predicted:  good Data:  [0 3 1 1 2 1] Actual:  good\n",
      "Predicted:  good Data:  [0 0 0 0 2 2] Actual:  good\n",
      "Predicted:  acc Data:  [1 1 0 1 1 0] Actual:  acc\n",
      "Predicted:  unacc Data:  [3 2 0 2 0 2] Actual:  unacc\n",
      "Predicted:  good Data:  [0 0 2 2 0 1] Actual:  good\n",
      "Predicted:  good Data:  [0 2 0 2 0 1] Actual:  good\n",
      "Predicted:  good Data:  [3 0 3 1 1 2] Actual:  good\n",
      "Predicted:  good Data:  [0 3 1 0 2 1] Actual:  good\n",
      "Predicted:  unacc Data:  [3 1 2 1 2 0] Actual:  unacc\n",
      "Predicted:  good Data:  [3 3 1 2 0 2] Actual:  good\n",
      "Predicted:  good Data:  [0 2 3 0 2 2] Actual:  good\n",
      "Predicted:  good Data:  [2 1 0 2 0 1] Actual:  good\n",
      "Predicted:  good Data:  [0 0 2 1 1 1] Actual:  good\n",
      "Predicted:  good Data:  [3 1 0 2 1 1] Actual:  good\n",
      "Predicted:  good Data:  [0 0 2 0 2 1] Actual:  good\n",
      "Predicted:  good Data:  [3 0 2 1 1 1] Actual:  good\n",
      "Predicted:  good Data:  [2 1 2 0 2 2] Actual:  good\n",
      "Predicted:  good Data:  [1 2 1 0 0 2] Actual:  good\n",
      "Predicted:  good Data:  [1 2 0 2 0 1] Actual:  good\n",
      "Predicted:  good Data:  [1 1 3 0 1 1] Actual:  good\n",
      "Predicted:  good Data:  [0 3 2 1 1 0] Actual:  good\n",
      "Predicted:  good Data:  [3 0 1 0 2 1] Actual:  good\n",
      "Predicted:  unacc Data:  [2 1 0 1 1 2] Actual:  unacc\n",
      "Predicted:  good Data:  [3 0 3 0 1 0] Actual:  good\n",
      "Predicted:  good Data:  [0 3 0 2 0 0] Actual:  good\n",
      "Predicted:  good Data:  [1 3 1 2 2 2] Actual:  good\n",
      "Predicted:  good Data:  [1 1 3 2 1 1] Actual:  good\n",
      "Predicted:  good Data:  [0 3 1 0 1 0] Actual:  good\n",
      "Predicted:  good Data:  [0 2 2 1 1 1] Actual:  good\n",
      "Predicted:  good Data:  [0 2 1 1 1 2] Actual:  good\n",
      "Predicted:  good Data:  [1 2 2 0 0 2] Actual:  good\n",
      "Predicted:  good Data:  [2 1 1 0 0 0] Actual:  good\n",
      "Predicted:  good Data:  [0 0 2 0 2 0] Actual:  good\n",
      "Predicted:  good Data:  [2 0 1 1 2 1] Actual:  good\n",
      "Predicted:  good Data:  [2 3 0 1 2 2] Actual:  good\n",
      "Predicted:  good Data:  [0 1 2 2 2 2] Actual:  good\n",
      "Predicted:  good Data:  [0 1 1 2 1 2] Actual:  unacc\n",
      "Predicted:  good Data:  [1 0 0 0 0 2] Actual:  good\n",
      "Predicted:  good Data:  [1 0 0 1 2 1] Actual:  good\n",
      "Predicted:  good Data:  [1 1 2 0 2 2] Actual:  good\n",
      "Predicted:  good Data:  [0 1 3 0 2 1] Actual:  good\n",
      "Predicted:  good Data:  [1 3 0 0 0 1] Actual:  good\n",
      "Predicted:  good Data:  [0 1 0 1 2 1] Actual:  good\n",
      "Predicted:  unacc Data:  [1 0 1 1 0 2] Actual:  unacc\n",
      "Predicted:  unacc Data:  [0 1 2 1 0 0] Actual:  unacc\n",
      "Predicted:  good Data:  [2 1 3 0 2 2] Actual:  good\n",
      "Predicted:  good Data:  [1 1 2 0 0 1] Actual:  good\n",
      "Predicted:  unacc Data:  [2 1 1 2 2 2] Actual:  unacc\n",
      "Predicted:  good Data:  [1 3 2 0 1 1] Actual:  good\n",
      "Predicted:  vgood Data:  [1 2 3 2 0 0] Actual:  vgood\n",
      "Predicted:  good Data:  [0 1 2 2 1 1] Actual:  good\n",
      "Predicted:  good Data:  [2 2 3 2 2 1] Actual:  good\n",
      "Predicted:  good Data:  [0 3 0 1 0 0] Actual:  good\n",
      "Predicted:  good Data:  [3 1 1 2 1 1] Actual:  good\n",
      "Predicted:  good Data:  [3 3 1 2 1 0] Actual:  good\n",
      "Predicted:  good Data:  [2 1 0 1 1 1] Actual:  good\n",
      "Predicted:  good Data:  [1 3 3 1 2 1] Actual:  good\n",
      "Predicted:  good Data:  [0 2 0 0 1 0] Actual:  good\n",
      "Predicted:  vgood Data:  [1 0 3 2 0 0] Actual:  vgood\n",
      "Predicted:  unacc Data:  [1 3 2 2 0 0] Actual:  unacc\n",
      "Predicted:  good Data:  [1 1 0 2 2 0] Actual:  good\n",
      "Predicted:  good Data:  [3 1 0 1 2 2] Actual:  good\n"
     ]
    }
   ],
   "source": [
    "predicted = model.predict(x_test)\n",
    "\n",
    "names = [\"unacc\", \"acc\", \"good\", \"vgood\"]\n",
    "for x in range(len(predicted)):\n",
    "    print(\"Predicted: \", names[predicted[x]], \"Data: \", x_test[x], \"Actual: \", names[y_test[x]])"
   ]
  },
  {
   "cell_type": "code",
   "execution_count": null,
   "metadata": {
    "pycharm": {
     "name": "#%%\n"
    }
   },
   "outputs": [],
   "source": []
  },
  {
   "cell_type": "code",
   "execution_count": null,
   "metadata": {
    "pycharm": {
     "name": "#%%\n"
    }
   },
   "outputs": [],
   "source": []
  },
  {
   "cell_type": "code",
   "execution_count": null,
   "metadata": {
    "pycharm": {
     "name": "#%%\n"
    }
   },
   "outputs": [],
   "source": [
    "\n",
    "\n",
    "\n"
   ]
  }
 ],
 "metadata": {
  "kernelspec": {
   "display_name": "Python 3",
   "language": "python",
   "name": "python3"
  },
  "language_info": {
   "codemirror_mode": {
    "name": "ipython",
    "version": 3
   },
   "file_extension": ".py",
   "mimetype": "text/x-python",
   "name": "python",
   "nbconvert_exporter": "python",
   "pygments_lexer": "ipython3",
   "version": "3.6.12"
  }
 },
 "nbformat": 4,
 "nbformat_minor": 1
}
